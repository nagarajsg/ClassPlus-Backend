{
  "nbformat": 4,
  "nbformat_minor": 0,
  "metadata": {
    "colab": {
      "name": "problem2_backend.ipynb",
      "provenance": []
    },
    "kernelspec": {
      "name": "python3",
      "display_name": "Python 3"
    },
    "language_info": {
      "name": "python"
    }
  },
  "cells": [
    {
      "cell_type": "code",
      "metadata": {
        "colab": {
          "base_uri": "https://localhost:8080/"
        },
        "id": "2MQNLSSHrRUD",
        "outputId": "6c1ad673-f561-4fc3-ea08-b1ebe76e1446"
      },
      "source": [
        "def find_num_cities(n,h,x,spots,paths):\n",
        "    count=0\n",
        "    for i in range(n):\n",
        "        flag=0\n",
        "        \n",
        "        for j in spots:\n",
        "            if i==j:\n",
        "                continue\n",
        "            if find_distance(paths,i,j,n)>x:\n",
        "                flag=1\n",
        "                break\n",
        "        if flag==0:\n",
        "            count+=1\n",
        "\n",
        "    return count\n",
        "\n",
        "\n",
        "\n",
        "\n",
        "\n",
        "def BFS(adj, src, dest, v, pred, dist):\n",
        "\n",
        "    queue = []\n",
        "\n",
        "    visited = [False for i in range(v)]\n",
        "\n",
        "    for i in range(v):\n",
        "\n",
        "        dist[i] = 1000000\n",
        "        pred[i] = -1\n",
        "    \n",
        "    visited[src] = True\n",
        "    dist[src] = 0\n",
        "    queue.append(src)\n",
        "\n",
        "    # standard BFS algorithm\n",
        "    while (len(queue) != 0):\n",
        "        u = queue[0]\n",
        "        queue.pop(0)\n",
        "        for i in range(len(adj[u])):\n",
        "        \n",
        "            if (visited[adj[u][i]] == False):\n",
        "                visited[adj[u][i]] = True\n",
        "                dist[adj[u][i]] = dist[u] + 1\n",
        "                pred[adj[u][i]] = u\n",
        "                queue.append(adj[u][i])\n",
        "\n",
        "                if (adj[u][i] == dest):\n",
        "                    return True\n",
        "\n",
        "    return False\n",
        "\n",
        "def find_distance(adj, s, dest, v):\n",
        "\n",
        "    pred=[0 for i in range(v)]\n",
        "    dist=[0 for i in range(v)]\n",
        "\n",
        "    if (BFS(adj, s, dest, v, pred, dist) == False):\n",
        "        print(\"Given source and destination are not connected\")\n",
        "\n",
        "    path = []\n",
        "    crawl = dest\n",
        "    crawl = dest\n",
        "    path.append(crawl)\n",
        "    \n",
        "    while (pred[crawl] != -1):\n",
        "        path.append(pred[crawl])\n",
        "        crawl = pred[crawl]\n",
        "    \n",
        "\n",
        "    return dist[dest]\n",
        "  \n",
        "\n",
        "def main():\n",
        "    ip=input().split()\n",
        "    n=int(ip[0])\n",
        "    h = int(ip[1])\n",
        "    x = int(ip[2])\n",
        "    ip = input().split()\n",
        "    spots = [(int(i)-1) for i in ip]\n",
        "    paths=[[ ] for j in range(n)]\n",
        "\n",
        "    for i in range(n-1):\n",
        "        ip=[int(i) for i in (input().split())]\n",
        "        paths[ip[0]-1].append(ip[1]-1)\n",
        "        paths[ip[1]-1].append(ip[0]-1)\n",
        "        #paths[ip[1]-1][ip[0]-1]=1\n",
        "    #print(paths)\n",
        "\n",
        "    print(find_num_cities(n,h,x,spots,paths))\n",
        "\n",
        "\n",
        "main()\n",
        "\n",
        "\n",
        "\n",
        "\n",
        "\n",
        "\n"
      ],
      "execution_count": null,
      "outputs": [
        {
          "output_type": "stream",
          "text": [
            "5 2 2\n",
            "2 5\n",
            "1 2\n",
            "2 3\n",
            "2 4\n",
            "4 5\n",
            "3\n"
          ],
          "name": "stdout"
        }
      ]
    },
    {
      "cell_type": "code",
      "metadata": {
        "id": "qROmZ6LBtwPz"
      },
      "source": [
        ""
      ],
      "execution_count": null,
      "outputs": []
    }
  ]
}